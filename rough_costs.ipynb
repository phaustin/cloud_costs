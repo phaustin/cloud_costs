{
 "cells": [
  {
   "cell_type": "markdown",
   "metadata": {
    "lines_to_next_cell": 0,
    "toc": true
   },
   "source": [
    "<h1>Table of Contents<span class=\"tocSkip\"></span></h1>\n",
    "<div class=\"toc\"><ul class=\"toc-item\"><li><span><a href=\"#Summary\" data-toc-modified-id=\"Summary-1\">Summary</a></span></li><li><span><a href=\"#Example\" data-toc-modified-id=\"Example-2\">Example</a></span><ul class=\"toc-item\"><li><span><a href=\"#Result\" data-toc-modified-id=\"Result-2.1\">Result</a></span></li></ul></li><li><span><a href=\"#Machines-needed-for-users\" data-toc-modified-id=\"Machines-needed-for-users-3\">Machines needed for users</a></span></li><li><span><a href=\"#Read-in-the-price-list\" data-toc-modified-id=\"Read-in-the-price-list-4\">Read in the price list</a></span></li><li><span><a href=\"#Input-case-parameters\" data-toc-modified-id=\"Input-case-parameters-5\">Input case parameters</a></span></li><li><span><a href=\"#Calculate-daily-and-total-costs\" data-toc-modified-id=\"Calculate-daily-and-total-costs-6\">Calculate daily and total costs</a></span></li><li><span><a href=\"#Output\" data-toc-modified-id=\"Output-7\">Output</a></span></li></ul></div>"
   ]
  },
  {
   "cell_type": "markdown",
   "metadata": {
    "lines_to_next_cell": 0
   },
   "source": [
    "# Cost calculation for Google Compute"
   ]
  },
  {
   "cell_type": "markdown",
   "metadata": {
    "lines_to_next_cell": 0
   },
   "source": [
    "## Summary\n",
    "\n",
    "This is a plain-text version of the calculation done in this notebook:\n",
    "https://github.com/jupyterhub/zero-to-jupyterhub-k8s/blob/master/doc/ntbk\n",
    "\n",
    "\n",
    "To reproduce, first run the `write_cost_csvs.py` script:\n",
    "\n",
    "```\n",
    "python write_cost_csvs.py\n",
    "```\n",
    "\n",
    "which will screen-scape the google cost catalog page,\n",
    "produce two dataframes and output to csv:  `n1_machines.csv` and `disks.csv`\n",
    "\n",
    "(Note that the script depends on the requests, beautifulsoup4 and lxml modules.)\n",
    "\n",
    "This notebook reads those csv files then, given a machine type like \"n1-standard-64\"\n",
    "calculates the cost per student for a particular number of days/ram per student/storage per student"
   ]
  },
  {
   "cell_type": "markdown",
   "metadata": {
    "lines_to_next_cell": 0
   },
   "source": [
    "## Example\n",
    "\n",
    "1000 students during a 4 month term using the cloud notebooks\n",
    "for 4 hours per day.\n",
    "\n",
    "**Parameters**\n",
    "\n",
    "```\n",
    "num_users=1000\n",
    "ram_per_user=2.  #Gbytes\n",
    "space_per_user=3 #Gbytes\n",
    "machine_type='n1-standard-64'\n",
    "number_of_days=4*30\n",
    "hours_per_day = 4\n",
    "```\n",
    "\n",
    "### Result\n",
    "\n",
    "**Price per student**\n",
    "\n",
    "```\n",
    "Disk space cost in $/student=$ 0.48\n",
    "Machine_cost in $/student=$13.13\n",
    "```"
   ]
  },
  {
   "cell_type": "markdown",
   "metadata": {
    "lines_to_next_cell": 0
   },
   "source": [
    "## Machines needed for users"
   ]
  },
  {
   "cell_type": "code",
   "execution_count": null,
   "metadata": {},
   "outputs": [],
   "source": [
    "import numpy as np\n",
    "import pandas as pd\n",
    "\n",
    "\n",
    "def calculate_machines_needed(users, mem_per_user, active_machine):\n",
    "    \"\"\"\n",
    "    Parameters\n",
    "    ----------\n",
    "\n",
    "    users: int\n",
    "       number of users\n",
    "    mem_per_user: float\n",
    "       ram needed per users\n",
    "    active_machine: pd.Series\n",
    "       machine characteristics\n",
    "\n",
    "    Returns\n",
    "    -------\n",
    "\n",
    "    total_machines_needed: int\n",
    "       number of machines needed for hosting\n",
    "    \"\"\"\n",
    "\n",
    "    memory_per_machine = active_machine[\"Memory\"]\n",
    "    total_gigs_needed = users * mem_per_user\n",
    "    total_machines_needed = int(np.ceil(total_gigs_needed / memory_per_machine))\n",
    "    return total_machines_needed"
   ]
  },
  {
   "cell_type": "markdown",
   "metadata": {},
   "source": [
    "## Read in the price list\n",
    "\n",
    "These csv files were written out by the `write_costs_csvs.py` script"
   ]
  },
  {
   "cell_type": "code",
   "execution_count": 2,
   "metadata": {},
   "outputs": [],
   "source": [
    "n1_machines = pd.read_csv(\"n1_machines.csv\", index_col=\"Machine type\")\n",
    "disks = pd.read_csv(\"disks.csv\", index_col=\"Type\")"
   ]
  },
  {
   "cell_type": "code",
   "execution_count": 3,
   "metadata": {},
   "outputs": [
    {
     "data": {
      "text/html": [
       "<div>\n",
       "<style scoped>\n",
       "    .dataframe tbody tr th:only-of-type {\n",
       "        vertical-align: middle;\n",
       "    }\n",
       "\n",
       "    .dataframe tbody tr th {\n",
       "        vertical-align: top;\n",
       "    }\n",
       "\n",
       "    .dataframe thead th {\n",
       "        text-align: right;\n",
       "    }\n",
       "</style>\n",
       "<table border=\"1\" class=\"dataframe\">\n",
       "  <thead>\n",
       "    <tr style=\"text-align: right;\">\n",
       "      <th></th>\n",
       "      <th>Price (per GB / month)</th>\n",
       "    </tr>\n",
       "    <tr>\n",
       "      <th>Type</th>\n",
       "      <th></th>\n",
       "    </tr>\n",
       "  </thead>\n",
       "  <tbody>\n",
       "    <tr>\n",
       "      <th>Standard provisioned space</th>\n",
       "      <td>0.040</td>\n",
       "    </tr>\n",
       "    <tr>\n",
       "      <th>SSD provisioned space</th>\n",
       "      <td>0.170</td>\n",
       "    </tr>\n",
       "    <tr>\n",
       "      <th>Regional standard provisioned space</th>\n",
       "      <td>0.080</td>\n",
       "    </tr>\n",
       "    <tr>\n",
       "      <th>Regional SSD provisioned space (Promo pricing ends July 31, 2019)</th>\n",
       "      <td>0.340</td>\n",
       "    </tr>\n",
       "    <tr>\n",
       "      <th>Snapshot storage</th>\n",
       "      <td>0.026</td>\n",
       "    </tr>\n",
       "  </tbody>\n",
       "</table>\n",
       "</div>"
      ],
      "text/plain": [
       "                                                    Price (per GB / month)\n",
       "Type                                                                      \n",
       "Standard provisioned space                                           0.040\n",
       "SSD provisioned space                                                0.170\n",
       "Regional standard provisioned space                                  0.080\n",
       "Regional SSD provisioned space (Promo pricing e...                   0.340\n",
       "Snapshot storage                                                     0.026"
      ]
     },
     "execution_count": 3,
     "metadata": {},
     "output_type": "execute_result"
    }
   ],
   "source": [
    "disks"
   ]
  },
  {
   "cell_type": "code",
   "execution_count": 4,
   "metadata": {},
   "outputs": [
    {
     "data": {
      "text/html": [
       "<div>\n",
       "<style scoped>\n",
       "    .dataframe tbody tr th:only-of-type {\n",
       "        vertical-align: middle;\n",
       "    }\n",
       "\n",
       "    .dataframe tbody tr th {\n",
       "        vertical-align: top;\n",
       "    }\n",
       "\n",
       "    .dataframe thead th {\n",
       "        text-align: right;\n",
       "    }\n",
       "</style>\n",
       "<table border=\"1\" class=\"dataframe\">\n",
       "  <thead>\n",
       "    <tr style=\"text-align: right;\">\n",
       "      <th></th>\n",
       "      <th>Machine type.1</th>\n",
       "      <th>Virtual CPUs</th>\n",
       "      <th>Memory</th>\n",
       "      <th>Price (USD / hr)</th>\n",
       "    </tr>\n",
       "    <tr>\n",
       "      <th>Machine type</th>\n",
       "      <th></th>\n",
       "      <th></th>\n",
       "      <th></th>\n",
       "      <th></th>\n",
       "    </tr>\n",
       "  </thead>\n",
       "  <tbody>\n",
       "    <tr>\n",
       "      <th>n1-standard-1</th>\n",
       "      <td>n1-standard-1</td>\n",
       "      <td>1</td>\n",
       "      <td>3.75</td>\n",
       "      <td>0.0475</td>\n",
       "    </tr>\n",
       "    <tr>\n",
       "      <th>n1-standard-2</th>\n",
       "      <td>n1-standard-2</td>\n",
       "      <td>2</td>\n",
       "      <td>7.50</td>\n",
       "      <td>0.0950</td>\n",
       "    </tr>\n",
       "    <tr>\n",
       "      <th>n1-standard-4</th>\n",
       "      <td>n1-standard-4</td>\n",
       "      <td>4</td>\n",
       "      <td>15.00</td>\n",
       "      <td>0.1900</td>\n",
       "    </tr>\n",
       "    <tr>\n",
       "      <th>n1-standard-8</th>\n",
       "      <td>n1-standard-8</td>\n",
       "      <td>8</td>\n",
       "      <td>30.00</td>\n",
       "      <td>0.3800</td>\n",
       "    </tr>\n",
       "    <tr>\n",
       "      <th>n1-standard-16</th>\n",
       "      <td>n1-standard-16</td>\n",
       "      <td>16</td>\n",
       "      <td>60.00</td>\n",
       "      <td>0.7600</td>\n",
       "    </tr>\n",
       "    <tr>\n",
       "      <th>n1-standard-32</th>\n",
       "      <td>n1-standard-32</td>\n",
       "      <td>32</td>\n",
       "      <td>120.00</td>\n",
       "      <td>1.5200</td>\n",
       "    </tr>\n",
       "    <tr>\n",
       "      <th>n1-standard-64</th>\n",
       "      <td>n1-standard-64</td>\n",
       "      <td>64</td>\n",
       "      <td>240.00</td>\n",
       "      <td>3.0400</td>\n",
       "    </tr>\n",
       "    <tr>\n",
       "      <th>n1-standard-96Skylake Platform only</th>\n",
       "      <td>n1-standard-96Skylake Platform only</td>\n",
       "      <td>96</td>\n",
       "      <td>360.00</td>\n",
       "      <td>4.5600</td>\n",
       "    </tr>\n",
       "  </tbody>\n",
       "</table>\n",
       "</div>"
      ],
      "text/plain": [
       "                                                          Machine type.1  \\\n",
       "Machine type                                                               \n",
       "n1-standard-1                                              n1-standard-1   \n",
       "n1-standard-2                                              n1-standard-2   \n",
       "n1-standard-4                                              n1-standard-4   \n",
       "n1-standard-8                                              n1-standard-8   \n",
       "n1-standard-16                                            n1-standard-16   \n",
       "n1-standard-32                                            n1-standard-32   \n",
       "n1-standard-64                                            n1-standard-64   \n",
       "n1-standard-96Skylake Platform only  n1-standard-96Skylake Platform only   \n",
       "\n",
       "                                     Virtual CPUs  Memory  Price (USD / hr)  \n",
       "Machine type                                                                 \n",
       "n1-standard-1                                   1    3.75            0.0475  \n",
       "n1-standard-2                                   2    7.50            0.0950  \n",
       "n1-standard-4                                   4   15.00            0.1900  \n",
       "n1-standard-8                                   8   30.00            0.3800  \n",
       "n1-standard-16                                 16   60.00            0.7600  \n",
       "n1-standard-32                                 32  120.00            1.5200  \n",
       "n1-standard-64                                 64  240.00            3.0400  \n",
       "n1-standard-96Skylake Platform only            96  360.00            4.5600  "
      ]
     },
     "execution_count": 4,
     "metadata": {},
     "output_type": "execute_result"
    }
   ],
   "source": [
    "n1_machines"
   ]
  },
  {
   "cell_type": "markdown",
   "metadata": {},
   "source": [
    "## Input case parameters"
   ]
  },
  {
   "cell_type": "code",
   "execution_count": 5,
   "metadata": {},
   "outputs": [],
   "source": [
    "num_users = 1000\n",
    "ram_per_user = 2.0  # Gbytes\n",
    "space_per_user = 3  # Gbytes\n",
    "machine_type = \"n1-standard-64\"\n",
    "number_of_days = 4 * 30\n",
    "hours_per_day = 4\n",
    "day_fraction = hours_per_day / 24.0"
   ]
  },
  {
   "cell_type": "markdown",
   "metadata": {},
   "source": [
    "## Calculate daily and total costs"
   ]
  },
  {
   "cell_type": "code",
   "execution_count": 6,
   "metadata": {},
   "outputs": [],
   "source": [
    "active_machine = n1_machines.loc[machine_type]\n",
    "machine_cost_daily = (\n",
    "    active_machine[\"Price (USD / hr)\"] * 24.0\n",
    ")  # cost per day per machine\n",
    "num_machines = calculate_machines_needed(num_users, ram_per_user, active_machine)\n",
    "disk_cost_daily = (\n",
    "    disks.loc[\"Standard provisioned space\"][\"Price (per GB / month)\"] / 30.0\n",
    ")  # Gbyte/day\n",
    "total_storage_cost = disk_cost_daily * number_of_days * num_users * space_per_user\n",
    "total_cpu_cost = machine_cost_daily * number_of_days * num_machines * day_fraction"
   ]
  },
  {
   "cell_type": "markdown",
   "metadata": {},
   "source": [
    "## Output"
   ]
  },
  {
   "cell_type": "code",
   "execution_count": 7,
   "metadata": {},
   "outputs": [
    {
     "name": "stdout",
     "output_type": "stream",
     "text": [
      "\n",
      "number of users: 1000\n",
      "ram per user 2.0 Gbytes\n",
      "\n",
      "Machine details:\n",
      "Machine type.1      n1-standard-64\n",
      "Virtual CPUs                    64\n",
      "Memory                         240\n",
      "Price (USD / hr)              3.04\n",
      "Name: n1-standard-64, dtype: object\n",
      "\n",
      "Number of machines needed: 9\n",
      "Disk cost 0.0013 $/Gbytes/day\n",
      "\n",
      "Over 120 days, total cost for 1000 students is:\n",
      "\n",
      "Disk space costs:  $480.0\n",
      "cpu cost: $13132.8\n",
      "\n"
     ]
    }
   ],
   "source": [
    "message = f\"\"\"\n",
    "number of users: {num_users}\n",
    "ram per user {ram_per_user} Gbytes\n",
    "\n",
    "Machine details:\n",
    "{active_machine}\n",
    "\n",
    "Number of machines needed: {num_machines}\n",
    "Disk cost {disk_cost_daily:6.4f} $/Gbytes/day\n",
    "\n",
    "Over {number_of_days} days, total cost for {num_users} students is:\n",
    "\n",
    "Disk space costs:  ${total_storage_cost}\n",
    "cpu cost: ${total_cpu_cost}\n",
    "\"\"\"\n",
    "print(message)"
   ]
  },
  {
   "cell_type": "code",
   "execution_count": 8,
   "metadata": {},
   "outputs": [
    {
     "name": "stdout",
     "output_type": "stream",
     "text": [
      "\n",
      "Disk space cost: $/student=$ 0.48\n",
      "\n",
      "Machine_cost: $/student=$13.13\n",
      "\n"
     ]
    }
   ],
   "source": [
    "text = f\"\"\"\n",
    "Disk space cost: $/student=${total_storage_cost/num_users:5.2f}\n",
    "\n",
    "Machine_cost: $/student=${total_cpu_cost/num_users:5.2f}\n",
    "\"\"\"\n",
    "\n",
    "print(text)"
   ]
  }
 ],
 "metadata": {
  "jupytext": {
   "cell_metadata_filter": "all",
   "notebook_metadata_filter": "all,-language_info",
   "text_representation": {
    "extension": ".py",
    "format_name": "percent",
    "format_version": "1.2",
    "jupytext_version": "1.1.0"
   }
  },
  "kernelspec": {
   "display_name": "Python 3",
   "language": "python",
   "name": "python3"
  },
  "language_info": {
   "codemirror_mode": {
    "name": "ipython",
    "version": 3
   },
   "file_extension": ".py",
   "mimetype": "text/x-python",
   "name": "python",
   "nbconvert_exporter": "python",
   "pygments_lexer": "ipython3",
   "version": "3.6.7"
  },
  "nbsphinx": {
   "execute": "never"
  },
  "toc": {
   "base_numbering": 1,
   "nav_menu": {},
   "number_sections": false,
   "sideBar": true,
   "skip_h1_title": true,
   "title_cell": "Table of Contents",
   "title_sidebar": "Contents",
   "toc_cell": true,
   "toc_position": {
    "height": "calc(100% - 180px)",
    "left": "10px",
    "top": "150px",
    "width": "315.085px"
   },
   "toc_section_display": true,
   "toc_window_display": true
  }
 },
 "nbformat": 4,
 "nbformat_minor": 2
}
